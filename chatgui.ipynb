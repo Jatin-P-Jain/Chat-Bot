{
 "cells": [
  {
   "cell_type": "code",
   "execution_count": 4,
   "metadata": {},
   "outputs": [],
   "source": [
    "import nltk\n",
    "from nltk.stem import WordNetLemmatizer\n",
    "lemmatizer = WordNetLemmatizer()\n",
    "import pickle\n",
    "import numpy as np\n",
    "import time\n",
    "from keras.models import load_model\n",
    "model = load_model('chatbot_model.h5')\n",
    "import json\n",
    "import random\n",
    "import speech_recognition as sr\n",
    "import pyttsx3\n",
    "engine = pyttsx3.init()\n",
    "engine.setProperty('rate', 125)\n",
    "engine.setProperty('volume',1.0)\n",
    "\n",
    "    \n",
    "intents = json.loads(open('intents.json').read())\n",
    "words = pickle.load(open('words.pkl','rb'))\n",
    "classes = pickle.load(open('classes.pkl','rb'))\n",
    "\n",
    "\n",
    "def clean_up_sentence(sentence):\n",
    "    # tokenize the pattern - split words into array\n",
    "    sentence_words = nltk.word_tokenize(sentence)\n",
    "    # stem each word - create short form for word\n",
    "    sentence_words = [lemmatizer.lemmatize(word.lower()) for word in sentence_words]\n",
    "    return sentence_words\n",
    "\n",
    "# return bag of words array: 0 or 1 for each word in the bag that exists in the sentence\n",
    "\n",
    "def bow(sentence, words, show_details=True):\n",
    "    # tokenize the pattern\n",
    "    sentence_words = clean_up_sentence(sentence)\n",
    "    # bag of words - matrix of N words, vocabulary matrix\n",
    "    bag = [0]*len(words)  \n",
    "    for s in sentence_words:\n",
    "        for i,w in enumerate(words):\n",
    "            if w == s: \n",
    "                # assign 1 if current word is in the vocabulary position\n",
    "                bag[i] = 1\n",
    "                if show_details:\n",
    "                    print (\"found in bag: %s\" % w)\n",
    "    return(np.array(bag))\n",
    "\n",
    "def predict_class(sentence, model):\n",
    "    # filter out predictions below a threshold\n",
    "    p = bow(sentence, words,show_details=False)\n",
    "    res = model.predict(np.array([p]))[0]\n",
    "    ERROR_THRESHOLD = 0.25\n",
    "    results = [[i,r] for i,r in enumerate(res) if r>ERROR_THRESHOLD]\n",
    "    # sort by strength of probability\n",
    "    results.sort(key=lambda x: x[1], reverse=True)\n",
    "    return_list = []\n",
    "    for r in results:\n",
    "        return_list.append({\"intent\": classes[r[0]], \"probability\": str(r[1])})\n",
    "    return return_list\n",
    "\n",
    "def getResponse(ints, intents_json):\n",
    "    tag = ints[0]['intent']\n",
    "    list_of_intents = intents_json['intents']\n",
    "    for i in list_of_intents:\n",
    "        if(i['tag']== tag):\n",
    "            result = random.choice(i['responses'])\n",
    "            break\n",
    "    return result\n",
    "\n",
    "def chatbot_response(msg):\n",
    "    ints = predict_class(msg, model)\n",
    "    res = getResponse(ints, intents)\n",
    "    return res\n",
    "\n",
    "\n",
    "#Creating GUI with tkinter\n",
    "import tkinter\n",
    "from tkinter import *\n",
    "\n",
    "\n",
    "def send():\n",
    "    msg = EntryBox.get(\"1.0\",'end-1c').strip()\n",
    "    if (msg==\"Type a message\"):\n",
    "        if (mic_input.cget(\"text\")!=''):\n",
    "            msg=mic_input.cget(\"text\")\n",
    "    EntryBox.delete(\"0.0\",END)\n",
    "\n",
    "    if msg != 'Type a message':\n",
    "        ChatLog.config(foreground=\"#353b48\", font=(\"Segoe Print\", 17 ))\n",
    "        ChatLog.config(state=NORMAL)\n",
    "        ChatLog.insert(END, \"You: \" + msg +'\\n')\n",
    "        res = chatbot_response(msg)\n",
    "        ChatLog.insert(END, \"Bot: \" + res + '\\n\\n')\n",
    "        engine.say(res)\n",
    "        engine.runAndWait()\n",
    "        ChatLog.config(state=DISABLED)\n",
    "        ChatLog.yview(END)\n",
    "        mic_input.config(text=\"\")\n",
    "    else:\n",
    "        engine.say(\".....OOPS!, Try Again\")\n",
    "        engine.runAndWait()\n",
    "        \n",
    "def inp_insert():\n",
    "    \n",
    "    EntryBox.delete(0.0,END)\n",
    "    r=sr.Recognizer()\n",
    "    with sr.Microphone() as source:\n",
    "        r.adjust_for_ambient_noise(source,duration=1)\n",
    "        engine.say(\"You can Speak Now\")\n",
    "        engine.runAndWait()\n",
    "        audio= r.listen(source)\n",
    "        try:\n",
    "            text = r.recognize_google(audio)\n",
    "        except:\n",
    "            text=\".....OOPS! Try Again.\"\n",
    "        return text\n",
    "def speak():\n",
    "    text=inp_insert()\n",
    "    if (text==\".....OOPS! Try Again.\"):\n",
    "        engine.say(text)\n",
    "        engine.runAndWait()\n",
    "    mic_input.config(text=text)\n",
    "    mic_text=mic_input.cget(\"text\")\n",
    "    EntryBox.focus_force()\n",
    "    EntryBox.insert(0.0,mic_text)\n",
    "    \n",
    "def on_click(event):\n",
    "    EntryBox.configure(state=NORMAL)\n",
    "    EntryBox.delete(0.0, END)\n",
    "\n",
    "    # make the callback only work once\n",
    "    EntryBox.unbind('<Button-1>', on_click_id)\n",
    "\n",
    "base = Tk()\n",
    "base.title(\"ROSS\")\n",
    "base.geometry(\"600x700\")\n",
    "base.resizable(width=FALSE, height=FALSE)\n",
    "#Create Chat window\n",
    "ChatLog = Text(base, bg=\"#e1b12c\", font=\"Arial\",relief='ridge')\n",
    "\n",
    "ChatLog.config(state=DISABLED)\n",
    "\n",
    "#Bind scrollbar to Chat window\n",
    "scrollbar = Scrollbar(base, command=ChatLog.yview, cursor=\"heart\")\n",
    "ChatLog['yscrollcommand'] = scrollbar.set\n",
    "\n",
    "photo = PhotoImage(file =\"mic.png\")\n",
    "photoimage=photo.subsample(3,3)\n",
    "#Create Button to send message\n",
    "SendButton = Button(base, width=\"12\", height=5,activebackground=\"#3c9d9b\",fg='#dfe6e9',bg='#1B1464',command=(lambda: send()),text=\"Send\",font=(\"Verdana\",15 ) )\n",
    "\n",
    "#Create the box to enter message\n",
    "EntryBox = Text(base, bg=\"#7f8fa6\",width=\"30\", height=\"15\",foreground=\"#ecf0f1\",font=(\"Verdana\", 18 ))\n",
    "EntryBox.bind(\"<Return>\", (lambda event: send()))\n",
    "\n",
    "EntryBox.insert(0.0, \"Type a message\")\n",
    "EntryBox.configure(state=DISABLED)\n",
    "on_click_id = EntryBox.bind('<Button-1>', on_click)\n",
    "\n",
    "MicButton = Button(base, width=\"12\", height=5,activebackground=\"#3c9d9b\",command=speak,text=\"Record\",font=(\"Verdana\",15 ),bg='#f1f1b0',fg='#1B1464' )\n",
    "mic_input=Label(base,text=\"\",font=(\"\",30),bg='#f1f1b0')\n",
    "\n",
    "#Place all components on the screen\n",
    "\n",
    "scrollbar.place(x=576,y=6, height=586)\n",
    "ChatLog.place(x=6,y=6, height=586, width=565)\n",
    "EntryBox.place(x=6, y=601, height=90, width=510)\n",
    "SendButton.place(x=520, y=650,width=75,height=40)\n",
    "MicButton.place(x=520,y=601,width=75,height=40)\n",
    "mic_input.place(x=6,y=550,width=565)\n",
    "base.mainloop()"
   ]
  },
  {
   "cell_type": "code",
   "execution_count": null,
   "metadata": {},
   "outputs": [
    {
     "name": "stdout",
     "output_type": "stream",
     "text": [
      "say anything : \n"
     ]
    }
   ],
   "source": [
    "import speech_recognition as sr\n",
    "r=sr.Recognizer()\n",
    "with sr.Microphone() as source:\n",
    "    r.adjust_for_ambient_noise(source,duration=1)\n",
    "    print(\"say anything : \")\n",
    "    audio= r.listen(source)\n",
    "    try:\n",
    "        text = r.recognize_google(audio)\n",
    "        print(text)\n",
    "    except:\n",
    "        print(\"sorry, could not recognise\")"
   ]
  },
  {
   "cell_type": "code",
   "execution_count": 38,
   "metadata": {},
   "outputs": [
    {
     "name": "stdout",
     "output_type": "stream",
     "text": [
      "200\n"
     ]
    }
   ],
   "source": [
    "import pyttsx3\n",
    "engine = pyttsx3.init() # object creation\n",
    "\n",
    "rate = engine.getProperty('rate')   # getting details of current speaking rate\n",
    "print (rate)                        #printing current voice rate\n",
    "engine.setProperty('rate', 125)     # setting up new voice rate\n"
   ]
  },
  {
   "cell_type": "code",
   "execution_count": 42,
   "metadata": {},
   "outputs": [
    {
     "name": "stdout",
     "output_type": "stream",
     "text": [
      "[<pyttsx3.voice.Voice object at 0x000001F7C7835108>, <pyttsx3.voice.Voice object at 0x000001F7E226CD08>]\n"
     ]
    }
   ],
   "source": [
    "voices = engine.getProperty('voices')\n",
    "print(voices)"
   ]
  },
  {
   "cell_type": "code",
   "execution_count": 39,
   "metadata": {},
   "outputs": [],
   "source": [
    "import pyttsx3\n",
    "engine = pyttsx3.init()\n",
    "engine.setProperty('rate', 125)\n",
    "engine.say(\"I will speak this text\")\n",
    "engine.runAndWait()"
   ]
  },
  {
   "cell_type": "code",
   "execution_count": 33,
   "metadata": {},
   "outputs": [
    {
     "name": "stdout",
     "output_type": "stream",
     "text": [
      "Collecting pyttsx3\n",
      "  Downloading https://files.pythonhosted.org/packages/2f/ca/019a5d782f355bc2040ac45bd9612995652934dc16e48873d3fb2e367547/pyttsx3-2.71-py3-none-any.whl\n",
      "Collecting pypiwin32; \"win32\" in sys_platform (from pyttsx3)\n",
      "  Downloading https://files.pythonhosted.org/packages/d0/1b/2f292bbd742e369a100c91faa0483172cd91a1a422a6692055ac920946c5/pypiwin32-223-py3-none-any.whl\n",
      "Requirement already satisfied: pywin32>=223 in c:\\programdata\\anaconda3\\lib\\site-packages (from pypiwin32; \"win32\" in sys_platform->pyttsx3) (223)\n",
      "Installing collected packages: pypiwin32, pyttsx3\n",
      "Successfully installed pypiwin32-223 pyttsx3-2.71\n"
     ]
    }
   ],
   "source": [
    "!pip install pyttsx3"
   ]
  },
  {
   "cell_type": "code",
   "execution_count": 35,
   "metadata": {},
   "outputs": [
    {
     "name": "stdout",
     "output_type": "stream",
     "text": [
      "Requirement already satisfied: pypiwin32 in c:\\programdata\\anaconda3\\lib\\site-packages (223)\n",
      "Requirement already satisfied: pywin32>=223 in c:\\programdata\\anaconda3\\lib\\site-packages (from pypiwin32) (223)\n"
     ]
    }
   ],
   "source": [
    "!pip install pypiwin32"
   ]
  },
  {
   "cell_type": "code",
   "execution_count": 54,
   "metadata": {},
   "outputs": [
    {
     "name": "stdout",
     "output_type": "stream",
     "text": [
      "word see 0 3\n",
      "word see 0 3\n",
      "word see 0 3\n",
      "word see 0 3\n",
      "word see 0 3\n",
      "word see 0 3\n",
      "word see 0 3\n",
      "word see 0 3\n",
      "word see 0 3\n",
      "word see 4 3\n",
      "word see 4 3\n",
      "word see 4 3\n",
      "word see 4 3\n",
      "word see 4 3\n",
      "word see 4 3\n",
      "word see 4 3\n",
      "word see 4 3\n",
      "word see 4 3\n",
      "word see 8 5\n",
      "word see 8 5\n",
      "word see 8 5\n",
      "word see 8 5\n",
      "word see 8 5\n",
      "word see 8 5\n",
      "word see 8 5\n",
      "word see 8 5\n",
      "word see 8 5\n",
      "word see 14 3\n",
      "word see 14 3\n",
      "word see 14 3\n",
      "word see 14 3\n",
      "word see 14 3\n",
      "word see 14 3\n",
      "word see 14 3\n",
      "word see 14 3\n",
      "word see 14 3\n",
      "finishing see True\n",
      "finishing see True\n",
      "finishing see True\n",
      "finishing see True\n",
      "finishing see True\n",
      "finishing see True\n",
      "finishing see True\n",
      "finishing see True\n",
      "finishing see True\n"
     ]
    }
   ],
   "source": [
    "import pyttsx3 \n",
    "  \n",
    "def onStart(): \n",
    "    print('starting') \n",
    "def onWord(name, location, length): \n",
    "    print('word', name, location, length) \n",
    "def onEnd(name, completed): \n",
    "    print('finishing', name, completed) \n",
    "engine = pyttsx3.init() \n",
    "engine.setProperty('rate', 100)\n",
    "engine.connect('started-utterance', onStart) \n",
    "engine.connect('started-word', onWord) \n",
    "engine.connect('finished-utterance', onEnd) \n",
    "  \n",
    "sen = \"You can speak now\"\n",
    "engine.say(sen,'see') \n",
    "engine.runAndWait() "
   ]
  },
  {
   "cell_type": "code",
   "execution_count": null,
   "metadata": {},
   "outputs": [],
   "source": []
  }
 ],
 "metadata": {
  "kernelspec": {
   "display_name": "Python 3",
   "language": "python",
   "name": "python3"
  },
  "language_info": {
   "codemirror_mode": {
    "name": "ipython",
    "version": 3
   },
   "file_extension": ".py",
   "mimetype": "text/x-python",
   "name": "python",
   "nbconvert_exporter": "python",
   "pygments_lexer": "ipython3",
   "version": "3.7.4"
  }
 },
 "nbformat": 4,
 "nbformat_minor": 2
}
